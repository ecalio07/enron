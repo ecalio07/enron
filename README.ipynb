{
 "cells": [
  {
   "cell_type": "markdown",
   "metadata": {
    "collapsed": false
   },
   "source": [
    "# Fraud detection machine learning on Enron enteprise dataset\n",
    "\n",
    "\n",
    "### Table of Contents\n",
    "\n",
    "   1. Abstract\n",
    "   2. Environment\n",
    "   3. Workflow\n",
    "   4. Files\n",
    "   5. Methods\n",
    "       1. Naive Bayes\n",
    "       2. SVM \n",
    "       3. Decision Tree\n",
    "   6. Summury of Result\n",
    "   7. References\n",
    "\n",
    "\n",
    "## 1. Abstract\n",
    "\n",
    "The purpose of this project is to study how well Naive Bayes, SVM, and Decision Tree machine learning algorithms can indentify emails by their authors. There will be comparinsons among them as to their respective performance and accuracy based on a pre-made list of email texts and the corresponding authors based on Enron dataset comprised of 146 users with 21 features each.\n",
    "\n",
    "The Enron scandal, publicized in October 2001, eventually led to the bankruptcy of the Enron Corporation, an American energy company based in Houston, Texas, and the de facto dissolution of Arthur Andersen, which was one of the five largest audit and accountancy partnerships in the world. In addition to being the largest bankruptcy reorganization in American history at that time, Enron was cited as the biggest audit failure."
   ]
  },
  {
   "cell_type": "markdown",
   "metadata": {},
   "source": [
    "## 2. Environment\n",
    "\n",
    "* Python 2.7.13 :: Anaconda 4.3.1 (64-bit)\n",
    "* numpy                     1.11.3                   py27_0\n",
    "* pandas                    0.19.2              np111py27_1\n",
    "* scikit-learn              0.18.1              np111py27_1 "
   ]
  },
  {
   "cell_type": "markdown",
   "metadata": {},
   "source": [
    "## 3. Workflow\n",
    "\n",
    "<img src=\"workflow-a.png\" />"
   ]
  },
  {
   "cell_type": "markdown",
   "metadata": {},
   "source": [
    "## 4. Files\n",
    "\n",
    "The data files, are stored in email_authors.pkl and word_data which has been developed by Katie Malone for Udacity machine learning training course.\n",
    "\n",
    "<img src=\"structure.png\" />\n"
   ]
  },
  {
   "cell_type": "markdown",
   "metadata": {},
   "source": [
    "## 5. Methods\n",
    "\n",
    "It will be performed arguments confirguration according to each classifier below so as to reach best time performance and accurance, as well as comparisons of results.\n",
    "\n",
    "We have a set of emails, half of which were written by one person and the other half by another person at the same company . Our objective is to classify the emails as written by one person or the other based only on the text of the email. \n",
    "\n",
    "###   5.1. Naive Bayes\n",
    "   * make tests with percentile parameter\n",
    "###   5.2. SVM\n",
    "   * deploy an rbf kernel\n",
    "   * optimize C parameter    \n",
    "###   5.3. Decision Tree\n",
    "   * make tests with percentile parameter"
   ]
  },
  {
   "cell_type": "markdown",
   "metadata": {},
   "source": [
    "### 7. Summury of Result\n",
    "We will reach to a conclusion based on pros and cons as to which classifier best suits to this scenario. Thus, we will have the oportunity explore these methods."
   ]
  },
  {
   "cell_type": "markdown",
   "metadata": {},
   "source": [
    "### 8. References\n",
    " Main: https://classroom.udacity.com/courses/ud120"
   ]
  }
 ],
 "metadata": {
  "kernelspec": {
   "display_name": "Python 2",
   "language": "python",
   "name": "python2"
  },
  "language_info": {
   "codemirror_mode": {
    "name": "ipython",
    "version": 2
   },
   "file_extension": ".py",
   "mimetype": "text/x-python",
   "name": "python",
   "nbconvert_exporter": "python",
   "pygments_lexer": "ipython2",
   "version": "2.7.13"
  }
 },
 "nbformat": 4,
 "nbformat_minor": 2
}
