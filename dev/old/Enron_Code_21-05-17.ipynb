{
 "cells": [
  {
   "cell_type": "code",
   "execution_count": 1,
   "metadata": {
    "collapsed": false,
    "scrolled": true
   },
   "outputs": [
    {
     "name": "stderr",
     "output_type": "stream",
     "text": [
      "/home/eduardo/anaconda2/lib/python2.7/site-packages/sklearn/cross_validation.py:44: DeprecationWarning: This module was deprecated in version 0.18 in favor of the model_selection module into which all the refactored classes and functions are moved. Also note that the interface of the new CV iterators are different from that of this module. This module will be removed in 0.20.\n",
      "  \"This module will be removed in 0.20.\", DeprecationWarning)\n"
     ]
    },
    {
     "name": "stdout",
     "output_type": "stream",
     "text": [
      "no. of Chris training emails: 7936\n",
      "no. of Sara training emails: 7884\n",
      "training time:  0.697 s\n",
      "predicting time:  0.095 s\n",
      "0.973265073948\n"
     ]
    }
   ],
   "source": [
    "#NAIVE BAYES\n",
    "\n",
    "import sys\n",
    "from time import time\n",
    "sys.path.append(\"tools/\")\n",
    "from email_preprocess import preprocess\n",
    "\n",
    "\n",
    "### features_train and features_test are the features for the training\n",
    "### and testing datasets, respectively\n",
    "### labels_train and labels_test are the corresponding item labels\n",
    "features_train, features_test, labels_train, labels_test = preprocess()\n",
    "\n",
    "\n",
    "\n",
    "\n",
    "#########################################################\n",
    "### your code goes here ###\n",
    "\n",
    "from sklearn.naive_bayes import GaussianNB\n",
    "from sklearn.metrics import accuracy_score\n",
    "\n",
    "clf = GaussianNB()\n",
    "t0 = time()\n",
    "clf.fit(features_train, labels_train)\n",
    "print \"training time: \", round(time()-t0, 3), \"s\"\n",
    "\n",
    "t1 = time()\n",
    "pred = clf.predict(features_test)\n",
    "print \"predicting time: \", round(time()-t1, 3), \"s\"\n",
    "\n",
    "accuracy = accuracy_score(labels_test, pred)\n",
    "\n",
    "print accuracy\n"
   ]
  },
  {
   "cell_type": "code",
   "execution_count": 2,
   "metadata": {
    "collapsed": false
   },
   "outputs": [
    {
     "name": "stdout",
     "output_type": "stream",
     "text": [
      "no. of Chris training emails: 7936\n",
      "no. of Sara training emails: 7884\n",
      "training time with SVM's linear kernel 0.13868188858\n",
      "prediction time with SVM's linear kernel 0.8358938694\n",
      "0.892491467577\n"
     ]
    }
   ],
   "source": [
    "#SVM\n",
    "\n",
    "import sys\n",
    "from time import time\n",
    "sys.path.append(\"../tools/\")\n",
    "from email_preprocess import preprocess\n",
    "\n",
    "\n",
    "### features_train and features_test are the features for the training\n",
    "### and testing datasets, respectively\n",
    "### labels_train and labels_test are the corresponding item labels\n",
    "features_train, features_test, labels_train, labels_test = preprocess()\n",
    "\n",
    "\n",
    "\n",
    "\n",
    "#########################################################\n",
    "### your code goes here ###\n",
    "from sklearn import svm\n",
    "from sklearn.metrics import accuracy_score\n",
    "\n",
    "linear_kernel_svm = svm.SVC(kernel='rbf', C=10000.)\n",
    "\n",
    "features_train = features_train[:len(features_train)/100]\n",
    "labels_train = labels_train[:len(labels_train)/100]\n",
    "\n",
    "t0 = time()\n",
    "linear_kernel_svm.fit(features_train, labels_train)\n",
    "print \"training time with SVM's linear kernel\", time() - t0\n",
    "\n",
    "t1 = time()\n",
    "pred = linear_kernel_svm.predict(features_test)\n",
    "print \"prediction time with SVM's linear kernel\", time() - t1\n",
    "\n",
    "acc = accuracy_score(labels_test, pred)\n",
    "print acc\n",
    "\n",
    "#########################################################\n",
    "\n",
    "def time_with_power(power, people,times):\n",
    "    results = nd.random.power(power, people)\n",
    "    for i in range(times):\n",
    "            results += nd.random.power(power, 1000)\n",
    "    return results"
   ]
  },
  {
   "cell_type": "code",
   "execution_count": null,
   "metadata": {
    "collapsed": false
   },
   "outputs": [
    {
     "name": "stdout",
     "output_type": "stream",
     "text": [
      "no. of Chris training emails: 7936\n",
      "no. of Sara training emails: 7884\n",
      "Size of features matrix:  (15820, 3785)\n"
     ]
    }
   ],
   "source": [
    "#DECISION TREE\n",
    "\n",
    "import sys\n",
    "from time import time\n",
    "sys.path.append(\"../tools/\")\n",
    "from email_preprocess import preprocess\n",
    "\n",
    "\n",
    "### features_train and features_test are the features for the training\n",
    "### and testing datasets, respectively\n",
    "### labels_train and labels_test are the corresponding item labels\n",
    "features_train, features_test, labels_train, labels_test = preprocess()\n",
    "\n",
    "print \"Size of features matrix: \", features_train.shape\n",
    "\n",
    "\n",
    "#########################################################\n",
    "### your code goes here ###\n",
    "\n",
    "from sklearn import tree\n",
    "from sklearn.metrics import accuracy_score\n",
    "\n",
    "clf = tree.DecisionTreeClassifier(min_samples_split=40)\n",
    "\n",
    "clf.fit(features_train, labels_train)\n",
    "pred = clf.predict(features_test)\n",
    "\n",
    "acc = accuracy_score(labels_test, pred)\n",
    "print \"Accuracy: \", acc\n",
    "#########################################################"
   ]
  }
 ],
 "metadata": {
  "kernelspec": {
   "display_name": "Python 2",
   "language": "python",
   "name": "python2"
  },
  "language_info": {
   "codemirror_mode": {
    "name": "ipython",
    "version": 2
   },
   "file_extension": ".py",
   "mimetype": "text/x-python",
   "name": "python",
   "nbconvert_exporter": "python",
   "pygments_lexer": "ipython2",
   "version": "2.7.13"
  }
 },
 "nbformat": 4,
 "nbformat_minor": 2
}
