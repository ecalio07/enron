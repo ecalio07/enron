{
 "cells": [
  {
   "cell_type": "raw",
   "metadata": {
    "collapsed": false
   },
   "source": [
    "Titulo: Aprendizado de máquina em detecção de fraudes na base da Empresa Enron\n",
    "\n",
    "Objetivos do paper: Treinar um classificador que seja capaz de identificar empregados fraudadores a partir do dataset(publico) de emails e financeiro da empresa americana Enron \n",
    "\n",
    "Dados: 500.000 emails de 150 usuários e dados financeiros.\n",
    "\n",
    "Qual o formato dos dados: Texto e Imagem (Gráfico)\n",
    "\n",
    "Features: aproximadamente 4 features\n",
    "\n",
    "\n",
    "\n",
    "\n",
    "\n",
    "\n",
    "\n",
    "\n",
    "\n",
    "\n"
   ]
  }
 ],
 "metadata": {
  "kernelspec": {
   "display_name": "Python 2",
   "language": "python",
   "name": "python2"
  },
  "language_info": {
   "codemirror_mode": {
    "name": "ipython",
    "version": 2
   },
   "file_extension": ".py",
   "mimetype": "text/x-python",
   "name": "python",
   "nbconvert_exporter": "python",
   "pygments_lexer": "ipython2",
   "version": "2.7.13"
  }
 },
 "nbformat": 4,
 "nbformat_minor": 2
}
