{
 "cells": [
  {
   "cell_type": "code",
   "execution_count": 24,
   "metadata": {
    "collapsed": false
   },
   "outputs": [
    {
     "name": "stdout",
     "output_type": "stream",
     "text": [
      "no. of Chris training emails: 7936\n",
      "no. of Sara training emails: 7884\n",
      "training time: 0.772 s\n",
      "predicting time: 0.096 s\n",
      "0.973265073948\n"
     ]
    },
    {
     "data": {
      "image/png": "[encoded data removed]",
      "text/plain": [
       "<matplotlib.figure.Figure at 0x7f5c7b56ca50>"
      ]
     },
     "metadata": {},
     "output_type": "display_data"
    }
   ],
   "source": [
    "#NAIVE BAYES\n",
    "\n",
    "import sys\n",
    "import matplotlib.pyplot as plt\n",
    "import numpy as np\n",
    "%matplotlib inline\n",
    "from time import time\n",
    "sys.path.append(\"../tools\")\n",
    "from email_preprocess import preprocess\n",
    "\n",
    "\n",
    "### features_train and features_test are the features for the training\n",
    "### and testing datasets, respectively\n",
    "### labels_train and labels_test are the corresponding item labels\n",
    "features_train, features_test, labels_train, labels_test = preprocess()\n",
    "\n",
    "\n",
    "\n",
    "\n",
    "#########################################################\n",
    "### your code goes here ###\n",
    "\n",
    "from sklearn.naive_bayes import GaussianNB\n",
    "from sklearn.metrics import accuracy_score\n",
    "\n",
    "clf = GaussianNB()\n",
    "t0 = time()\n",
    "clf.fit(features_train, labels_train)\n",
    "\n",
    "arr = []\n",
    "\n",
    "\n",
    "traintime = \"training time: \" + str(round(time()-t0, 3))\n",
    "arr.append(traintime)\n",
    "print traintime, \"s\"\n",
    "\n",
    "t1 = time()\n",
    "pred = clf.predict(features_test)\n",
    "\n",
    "predtime = \"predicting time: \" + str(round(time()-t1, 3))\n",
    "arr.append(predtime)\n",
    "print predtime, \"s\"\n",
    "\n",
    "accuracy = accuracy_score(labels_test, pred)\n",
    "arr.append(accuracy)\n",
    "np.save('/tmp/123', arr)\n",
    "\n",
    "print accuracy\n",
    "\n",
    "\n",
    "# rng = np.random.RandomState(10)  # deterministic random data\n",
    "# a = np.hstack((rng.normal(size=1000),rng.normal(loc=5, scale=2, size=1000)))\n",
    "# plt.hist(a, bins='auto')  # plt.hist passes it's arguments to np.histogram\n",
    "# plt.title(\"Histogram with 'auto' bins\")\n",
    "\n",
    "#===== //==============\n",
    "# gaussian_numbers = np.random.randn(1000)\n",
    "# plt.hist(gaussian_numbers)\n",
    "# plt.title(\"Gaussian Histogram\")\n",
    "# plt.xlabel(\"Value\")\n",
    "# plt.ylabel(\"Frequency\")\n",
    "\n",
    "# plt.show()\n",
    "\n",
    "###########3################\n",
    "\n",
    "gender = ['male','male','female','male','female']\n",
    "\n",
    "import matplotlib.pyplot as plt\n",
    "from collections import Counter\n",
    "\n",
    "c = Counter(gender)\n",
    "\n",
    "men = c['male']\n",
    "women = c['female']\n",
    "\n",
    "bar_heights = (men, women)\n",
    "x = (1, 2)\n",
    "\n",
    "fig, ax = plt.subplots()\n",
    "width = 0.4\n",
    "\n",
    "ax.bar(x, bar_heights, width)\n",
    "\n",
    "ax.set_xlim((0, 3))\n",
    "ax.set_ylim((0, max(men, women)*1.1))\n",
    "\n",
    "ax.set_xticks([i+width/2 for i in x])\n",
    "ax.set_xticklabels(['male', 'female'])\n",
    "\n",
    "plt.show()\n",
    "\n",
    "\n",
    "\n",
    "## IT IS PENDING ADDING CODE TO DISPLAY HOW MANY EMAILS WERE PREDICTED TO BE CHRIS AND SARA, \n",
    "## WWHAT EMAILS WENT TO CHRIS AND SARA\n",
    "## DISPLAY GRAPHS"
   ]
  }
 ],
 "metadata": {
  "kernelspec": {
   "display_name": "Python 2",
   "language": "python",
   "name": "python2"
  },
  "language_info": {
   "codemirror_mode": {
    "name": "ipython",
    "version": 2
   },
   "file_extension": ".py",
   "mimetype": "text/x-python",
   "name": "python",
   "nbconvert_exporter": "python",
   "pygments_lexer": "ipython2",
   "version": "2.7.13"
  }
 },
 "nbformat": 4,
 "nbformat_minor": 2
}
